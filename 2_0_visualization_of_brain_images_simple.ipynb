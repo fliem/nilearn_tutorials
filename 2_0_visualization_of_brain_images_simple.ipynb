{
 "cells": [
  {
   "cell_type": "markdown",
   "metadata": {
    "slideshow": {
     "slide_type": "slide"
    }
   },
   "source": [
    "# Visualization of brain images\n",
    "This is a shortened version of the `2_1_visualization_of_brain_images` notebook.\n",
    "\n",
    "\n",
    "## Outline\n",
    "Plotting tools from Nilearn for an **easy visualization** of **neuroimaging data** and **statistical analysis results**.\n",
    "\n",
    "In this brief tutorial we will show how to visualize\n",
    "\n",
    "- **anatomical images** (`plotting.plot_anat`)\n",
    "\n",
    "- **stat maps** on an **anatomical image** (`plotting.plot_stat_map`)\n",
    "\n",
    "- **stat maps** on a **glass brain** (`plotting.plot_glass_brain`)\n",
    "\n",
    "\n",
    "\n"
   ]
  },
  {
   "cell_type": "markdown",
   "metadata": {
    "slideshow": {
     "slide_type": "subslide"
    }
   },
   "source": [
    "## Few conventions\n",
    "\n",
    "* Nilearn plotting tools by default uses standard anatomical **Montreal Neurological Image (MNI)** template brain image as a background, **same template as used in SPM & FSL software**."
   ]
  },
  {
   "cell_type": "markdown",
   "metadata": {
    "slideshow": {
     "slide_type": "slide"
    }
   },
   "source": [
    "## Getting started\n",
    "For the plots to be rendered directly into the notebook we need the `%matplotlib inline` magic."
   ]
  },
  {
   "cell_type": "code",
   "execution_count": null,
   "metadata": {
    "collapsed": false
   },
   "outputs": [],
   "source": [
    "%matplotlib inline\n",
    "import warnings\n",
    "warnings.filterwarnings('ignore')"
   ]
  },
  {
   "cell_type": "markdown",
   "metadata": {
    "slideshow": {
     "slide_type": "slide"
    }
   },
   "source": [
    "## Plotting Anatomical images `plot_anat`\n",
    "\n",
    "We show here how to plot anatomical image using tool: `plotting.plot_anat`"
   ]
  },
  {
   "cell_type": "code",
   "execution_count": null,
   "metadata": {
    "collapsed": false
   },
   "outputs": [],
   "source": [
    "# First, we fetch and load the default anatomical image available in Nilearn datasets module\n",
    "from nilearn import datasets\n",
    "\n",
    "# default MNI152 template\n",
    "anatomical_image = datasets.load_mni152_template()\n",
    "\n",
    "# Then, import plotting module from nilearn to easily visualize the loaded image\n",
    "from nilearn import plotting\n",
    "\n",
    "# To plot anatomical image\n",
    "plotting.plot_anat(anatomical_image)"
   ]
  },
  {
   "cell_type": "markdown",
   "metadata": {
    "slideshow": {
     "slide_type": "subslide"
    }
   },
   "source": [
    "We can control the details by passing **additional arguments** to the function, for insatnce:\n",
    "* the cut coordinates\n",
    "* the title"
   ]
  },
  {
   "cell_type": "code",
   "execution_count": null,
   "metadata": {
    "collapsed": false
   },
   "outputs": [],
   "source": [
    "plotting.plot_anat(anatomical_image, cut_coords=[0, 0, 0], title='MNI template')"
   ]
  },
  {
   "cell_type": "markdown",
   "metadata": {
    "slideshow": {
     "slide_type": "slide"
    }
   },
   "source": [
    "## Gettin help\n",
    "\n",
    "As with all python functions you can use `help(fucntion_name)` or the `?` in notebooks to get more information regarding that funcition."
   ]
  },
  {
   "cell_type": "code",
   "execution_count": null,
   "metadata": {
    "collapsed": false,
    "scrolled": true,
    "slideshow": {
     "slide_type": "subslide"
    }
   },
   "outputs": [],
   "source": [
    "help(plotting.plot_anat)"
   ]
  },
  {
   "cell_type": "code",
   "execution_count": null,
   "metadata": {
    "collapsed": true,
    "slideshow": {
     "slide_type": "subslide"
    }
   },
   "outputs": [],
   "source": [
    "plotting.plot_anat?"
   ]
  },
  {
   "cell_type": "markdown",
   "metadata": {
    "slideshow": {
     "slide_type": "slide"
    }
   },
   "source": [
    "## Plotting Statistical images `plot_stat_map`\n",
    "\n",
    "In this section, we show how to use `plotting.plot_stat_map` to visualize statistical results overlayed onto aligned to specific anatomical images or default MNI template. Most suitable images are Z-map, T-map, ICA statistical maps.\n",
    "\n",
    "In this setting, we show the t-contrast maps obtained from task fMRI datasets during a left vs right button press on its own subject specific anatomical image."
   ]
  },
  {
   "cell_type": "markdown",
   "metadata": {
    "collapsed": true,
    "slideshow": {
     "slide_type": "subslide"
    }
   },
   "source": [
    "First, we fetch and load the functional images available in Nilearn datasets module\n",
    "No need to import again since we imported datasets module on top"
   ]
  },
  {
   "cell_type": "code",
   "execution_count": null,
   "metadata": {
    "collapsed": false
   },
   "outputs": [],
   "source": [
    "# Fetch t-contrasts maps from Nilearn datasets module\n",
    "localizer_dataset = datasets.fetch_localizer_button_task(\n",
    "    n_subjects=2,\n",
    "    get_anats=True)\n",
    "\n",
    "# Anatomical image filename\n",
    "localizer_anat_filename = localizer_dataset.anats[1]\n",
    "\n",
    "# T-contrast map filename\n",
    "localizer_tmap_filename = localizer_dataset.tmaps[1]"
   ]
  },
  {
   "cell_type": "markdown",
   "metadata": {
    "slideshow": {
     "slide_type": "subslide"
    }
   },
   "source": [
    "The variables `localizer_anat_filename` and `localizer_tmap_filename` only hold filenames \n",
    "for MRI data stored on the hard disk."
   ]
  },
  {
   "cell_type": "code",
   "execution_count": null,
   "metadata": {
    "collapsed": false
   },
   "outputs": [],
   "source": [
    "print(localizer_anat_filename)\n",
    "print(localizer_tmap_filename)"
   ]
  },
  {
   "cell_type": "markdown",
   "metadata": {
    "slideshow": {
     "slide_type": "subslide"
    }
   },
   "source": [
    "\n",
    "We want to **visualize statistical t-map** on its **anatomical image**."
   ]
  },
  {
   "cell_type": "code",
   "execution_count": null,
   "metadata": {
    "collapsed": false
   },
   "outputs": [],
   "source": [
    "# Visualize statistical t-map on its anatomical image\n",
    "plotting.plot_stat_map(localizer_tmap_filename, bg_img=localizer_anat_filename,\n",
    "                       title=\"Statistical t-map with colorbar\")"
   ]
  },
  {
   "cell_type": "markdown",
   "metadata": {
    "slideshow": {
     "slide_type": "subslide"
    }
   },
   "source": [
    "- We can add a **threshold**"
   ]
  },
  {
   "cell_type": "code",
   "execution_count": null,
   "metadata": {
    "collapsed": false
   },
   "outputs": [],
   "source": [
    "# Visualizing t-map with `threshold=3` based on its statistical intensities\n",
    "plotting.plot_stat_map(localizer_tmap_filename, bg_img=localizer_anat_filename,\n",
    "                       threshold=3,\n",
    "                       title=\"Statistical map with threshold=3\")"
   ]
  },
  {
   "cell_type": "markdown",
   "metadata": {
    "slideshow": {
     "slide_type": "slide"
    }
   },
   "source": [
    "## Plotting statistical maps with glass brain image `plot_glass_brain`\n",
    "\n",
    "In this setting, we show the t-contrast maps obtained from task fMRI datasets during a left vs right button press overlayed on cool glass brain schematics image. `plotting.plot_glass_brain` will be used here.\n",
    "\n",
    "**Note:** Here, background image is not needed since background image is always brain schematic image and statistical map should be normalized to MNI brain space to be aligned properly."
   ]
  },
  {
   "cell_type": "markdown",
   "metadata": {},
   "source": [
    "- Visualizing **t-map** with **glass brain as background image**.\n",
    "- With **colorbar**\n",
    "- With **negative and thresholded values.**"
   ]
  },
  {
   "cell_type": "code",
   "execution_count": null,
   "metadata": {
    "collapsed": false,
    "slideshow": {
     "slide_type": "subslide"
    }
   },
   "outputs": [],
   "source": [
    "# Visualizing with plot_abs=False & threshold=3\n",
    "plotting.plot_glass_brain(localizer_tmap_filename, \n",
    "                          threshold=3,\n",
    "                          plot_abs=False, \n",
    "                          colorbar=True,\n",
    "                          title='Statistical map with threshold=3')\n"
   ]
  },
  {
   "cell_type": "markdown",
   "metadata": {
    "slideshow": {
     "slide_type": "subslide"
    }
   },
   "source": [
    "- This also can be done for each **hemisphere** separately."
   ]
  },
  {
   "cell_type": "code",
   "execution_count": null,
   "metadata": {
    "collapsed": false
   },
   "outputs": [],
   "source": [
    "plotting.plot_glass_brain(localizer_tmap_filename, threshold=3, plot_abs=False, display_mode=\"lzr\",\n",
    "                         colorbar=True, title=\"Statistical map with left and right hemispheres\")\n",
    "plotting.plot_glass_brain(localizer_tmap_filename, threshold=3, plot_abs=False,  display_mode=\"lyrz\",\n",
    "                         colorbar=True, title=\"Statistical map with left and right hemispheres\")"
   ]
  },
  {
   "cell_type": "markdown",
   "metadata": {
    "collapsed": true,
    "slideshow": {
     "slide_type": "slide"
    }
   },
   "source": [
    "# Going further"
   ]
  },
  {
   "cell_type": "markdown",
   "metadata": {
    "slideshow": {
     "slide_type": "subslide"
    }
   },
   "source": [
    "## Saving plots"
   ]
  },
  {
   "cell_type": "markdown",
   "metadata": {},
   "source": [
    "To save plots as files we need to first write them into a variable `fig` in our case:"
   ]
  },
  {
   "cell_type": "code",
   "execution_count": null,
   "metadata": {
    "collapsed": false
   },
   "outputs": [],
   "source": [
    "fig = plotting.plot_glass_brain(localizer_tmap_filename, threshold=3, plot_abs=False, display_mode=\"lzr\",\n",
    "                         colorbar=True, title=\"Statistical map with left and right hemispheres\")"
   ]
  },
  {
   "cell_type": "markdown",
   "metadata": {},
   "source": [
    "Then we can use the `.savefig` function to write it to the hard disk:"
   ]
  },
  {
   "cell_type": "code",
   "execution_count": null,
   "metadata": {
    "collapsed": true
   },
   "outputs": [],
   "source": [
    "fig.savefig(\"stat_map_glass_brain.pdf\")"
   ]
  },
  {
   "cell_type": "markdown",
   "metadata": {
    "slideshow": {
     "slide_type": "subslide"
    }
   },
   "source": [
    "## Plotting your own files"
   ]
  },
  {
   "cell_type": "markdown",
   "metadata": {},
   "source": [
    "To plot files that are located on your HD, all you need to change is the filename you pass to the `nilearn` functions.\n",
    "\n",
    "For instance instance, instead of:"
   ]
  },
  {
   "cell_type": "code",
   "execution_count": null,
   "metadata": {
    "collapsed": false
   },
   "outputs": [],
   "source": [
    "anatomical_image = datasets.load_mni152_template()\n",
    "# To plot anatomical image\n",
    "plotting.plot_anat(anatomical_image)"
   ]
  },
  {
   "cell_type": "markdown",
   "metadata": {},
   "source": [
    "You can change `anatomical_image` to:\n",
    "```\n",
    "anatomical_image = \"/Users/yourname/project/sub-01/T1w.nii.gz\"\n",
    "```\n",
    "And **rerun** the cell.\n"
   ]
  },
  {
   "cell_type": "markdown",
   "metadata": {
    "slideshow": {
     "slide_type": "slide"
    }
   },
   "source": [
    "# Other cool plotting funcions\n",
    "\n",
    "- **`plotting.plot_roi`**\n",
    "\n",
    "- **`plotting.plot_connectome`**\n",
    "\n",
    "\n",
    "See **`2_1_visualization_of_brain_images`** tutorial."
   ]
  },
  {
   "cell_type": "markdown",
   "metadata": {
    "slideshow": {
     "slide_type": "subslide"
    }
   },
   "source": [
    "## Plotting multiple ICA maps in one figure"
   ]
  },
  {
   "cell_type": "code",
   "execution_count": null,
   "metadata": {
    "collapsed": false
   },
   "outputs": [],
   "source": [
    "# Fetching ICA maps from atlas smith 2009\n",
    "ica_maps = datasets.fetch_atlas_smith_2009().rsn10\n",
    "# Visualizing ICA maps with view_type='filled_contours'\n",
    "plotting.plot_prob_atlas(maps_img=ica_maps, view_type='filled_contours',\n",
    "                         title='Visualizing all ICA maps as a clusters')\n",
    "# Visualizing ICA maps with view_type='contours'\n",
    "plotting.plot_prob_atlas(maps_img=ica_maps, view_type='contours',\n",
    "                         title='Visualizing all ICA maps as contours')"
   ]
  },
  {
   "cell_type": "markdown",
   "metadata": {
    "slideshow": {
     "slide_type": "subslide"
    }
   },
   "source": [
    "## Connectomes"
   ]
  },
  {
   "cell_type": "code",
   "execution_count": null,
   "metadata": {
    "collapsed": false
   },
   "outputs": [],
   "source": [
    "# Default Mode Network coordinates\n",
    "dmn_coords = [(0, -52, 18), (-46, -68, 32), (46, -68, 32), (0, 50, -5)]\n",
    "labels = [\n",
    "    'Posterior Cingulate Cortex',\n",
    "    'Left Temporoparietal junction',\n",
    "    'Right Temporoparietal junction',\n",
    "    'Medial prefrontal cortex'\n",
    "]\n",
    "# import numpy module to fetch correlation values from csv file\n",
    "import numpy as np\n",
    "correlations = np.genfromtxt('corr.csv', delimiter=',', dtype=None)\n",
    "# Visualization\n",
    "display = plotting.plot_connectome(adjacency_matrix=correlations, node_coords=dmn_coords,\n",
    "                                   edge_threshold='40%',\n",
    "                                   title='Correlations interactions between Default Mode Networks')"
   ]
  },
  {
   "cell_type": "code",
   "execution_count": null,
   "metadata": {
    "collapsed": true
   },
   "outputs": [],
   "source": []
  }
 ],
 "metadata": {
  "anaconda-cloud": {},
  "celltoolbar": "Slideshow",
  "kernelspec": {
   "display_name": "Python [conda root]",
   "language": "python",
   "name": "conda-root-py"
  },
  "language_info": {
   "codemirror_mode": {
    "name": "ipython",
    "version": 3
   },
   "file_extension": ".py",
   "mimetype": "text/x-python",
   "name": "python",
   "nbconvert_exporter": "python",
   "pygments_lexer": "ipython3",
   "version": "3.5.2"
  }
 },
 "nbformat": 4,
 "nbformat_minor": 0
}
